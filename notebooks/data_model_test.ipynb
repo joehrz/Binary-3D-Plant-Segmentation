{
 "cells": [
  {
   "cell_type": "code",
   "execution_count": 1,
   "metadata": {},
   "outputs": [
    {
     "name": "stdout",
     "output_type": "stream",
     "text": [
      "Jupyter environment detected. Enabling Open3D WebVisualizer.\n",
      "[Open3D INFO] WebRTC GUI backend enabled.\n",
      "[Open3D INFO] WebRTCWindowSystem: HTTP handshake server disabled.\n"
     ]
    }
   ],
   "source": [
    "import os\n",
    "import sys\n",
    "\n",
    "# Add project root to sys.path\n",
    "project_root = os.path.abspath(os.path.join(os.getcwd(), '..'))\n",
    "sys.path.append(project_root)\n",
    "\n",
    "import numpy as np\n",
    "import open3d as o3d\n",
    "import torch\n",
    "import matplotlib.pyplot as plt\n",
    "\n",
    "\n",
    "# Set random seeds for reproducibility\n",
    "np.random.seed(42)\n",
    "torch.manual_seed(42)\n",
    "\n",
    "# Import custom modules (ensure the paths are correct)\n",
    "from src.utils.data_utils import load_point_cloud, save_point_cloud\n",
    "#from src.data_processing.data_augmentation import add_random_noise_points\n",
    "from src.data_processing.data_augmentation import add_random_noise_points\n",
    "from src.data_processing.data_preprocessing import (\n",
    "    voxel_down_sample_with_indices,\n",
    "    adjust_point_count_with_indices,\n",
    "    normalize_point_cloud,\n",
    ")\n",
    "\n",
    "from src.models.pointnetplusplus import PointNetPlusPlus\n",
    "from src.models.pointnet2_utils import PointNetSetAbstraction, PointNetSetAbstractionMsg, PointNetFeaturePropagation"
   ]
  },
  {
   "cell_type": "code",
   "execution_count": 2,
   "metadata": {},
   "outputs": [
    {
     "name": "stdout",
     "output_type": "stream",
     "text": [
      "Original Point Cloud:\n"
     ]
    }
   ],
   "source": [
    "# Specify the path to a sample point cloud file\n",
    "sample_ply = r'C:\\Users\\joe_h\\Desktop\\work_projects\\Plant-Point-Cloud-Filtering-with-Supervised-Segmentation\\data\\raw\\plant_only\\Wheat_Gladius_B6_2023-06-27-2029_fused_output.ply'  # Replace with an actual filename\n",
    "\n",
    "# Load the point cloud\n",
    "points, colors = load_point_cloud(sample_ply)\n",
    "\n",
    "# Create an Open3D point cloud object\n",
    "pcd = o3d.geometry.PointCloud()\n",
    "pcd.points = o3d.utility.Vector3dVector(points)\n",
    "if colors is not None:\n",
    "    pcd.colors = o3d.utility.Vector3dVector(colors)\n",
    "\n",
    "# Visualize the point cloud\n",
    "print(\"Original Point Cloud:\")\n",
    "#o3d.visualization.draw_geometries([pcd])"
   ]
  },
  {
   "cell_type": "code",
   "execution_count": 3,
   "metadata": {},
   "outputs": [
    {
     "name": "stdout",
     "output_type": "stream",
     "text": [
      "Total points in combined point cloud: 75224\n",
      "Number of plant points: 70224\n",
      "Number of noise points: 5000\n"
     ]
    }
   ],
   "source": [
    "# Number of noise points to add\n",
    "num_noise_points = 5000  # Adjust as needed\n",
    "\n",
    "# Call the function to get the combined point cloud and colors\n",
    "\n",
    "combined_points, combined_colors, labels = add_random_noise_points(points, colors, num_noise_points)\n",
    "\n",
    "# After adding noise\n",
    "print(f\"Total points in combined point cloud: {len(combined_points)}\")\n",
    "print(f\"Number of plant points: {np.sum(labels == 1)}\")\n",
    "print(f\"Number of noise points: {np.sum(labels == 0)}\")"
   ]
  },
  {
   "cell_type": "code",
   "execution_count": 4,
   "metadata": {},
   "outputs": [
    {
     "name": "stdout",
     "output_type": "stream",
     "text": [
      "Downsampled point cloud has 12279 points\n",
      "Number of plant points: 7291\n",
      "Number of noise points: 4988\n"
     ]
    }
   ],
   "source": [
    "# Convert to Open3D point cloud for processing\n",
    "noisy_pcd = o3d.geometry.PointCloud()\n",
    "noisy_pcd.points = o3d.utility.Vector3dVector(combined_points)\n",
    "noisy_pcd.colors = o3d.utility.Vector3dVector(combined_colors)\n",
    "\n",
    "# Downsample the point cloud\n",
    "voxel_size = 0.005  # Adjust as needed\n",
    "\n",
    "# Extract indices of the downsampled points\n",
    "# Downsample the point cloud\n",
    "downsampled_pcd, downsampled_indices = voxel_down_sample_with_indices(noisy_pcd, voxel_size)\n",
    "\n",
    "# Adjust the labels based on the downsampled indices\n",
    "downsampled_labels = labels[downsampled_indices]\n",
    "\n",
    "print(f\"Downsampled point cloud has {len(downsampled_pcd.points)} points\")\n",
    "print(f\"Number of plant points: {np.sum(downsampled_labels == 1)}\")\n",
    "print(f\"Number of noise points: {np.sum(downsampled_labels == 0)}\")\n",
    "\n",
    "# Adjust the point count\n",
    "num_points = 2048\n"
   ]
  },
  {
   "cell_type": "code",
   "execution_count": 5,
   "metadata": {},
   "outputs": [
    {
     "name": "stdout",
     "output_type": "stream",
     "text": [
      "Adjusted point cloud has 2048 points\n",
      "Number of plant points: 1217\n",
      "Number of noise points: 831\n"
     ]
    }
   ],
   "source": [
    "# Use the modified function\n",
    "adjusted_pcd, adjusted_labels = adjust_point_count_with_indices(downsampled_pcd, downsampled_labels, num_points)\n",
    "\n",
    "# Verify the counts\n",
    "print(f\"Adjusted point cloud has {len(adjusted_pcd.points)} points\")\n",
    "print(f\"Number of plant points: {np.sum(adjusted_labels == 1)}\")\n",
    "print(f\"Number of noise points: {np.sum(adjusted_labels == 0)}\")\n"
   ]
  },
  {
   "cell_type": "code",
   "execution_count": 6,
   "metadata": {},
   "outputs": [],
   "source": [
    "o3d.visualization.draw_geometries([adjusted_pcd])"
   ]
  },
  {
   "cell_type": "code",
   "execution_count": 6,
   "metadata": {},
   "outputs": [
    {
     "name": "stdout",
     "output_type": "stream",
     "text": [
      "Input points shape: torch.Size([1, 2048, 3])\n",
      "Input labels shape: torch.Size([1, 2048])\n",
      "Number of plant points: 1217\n",
      "Number of noise points: 831\n"
     ]
    }
   ],
   "source": [
    "# Step 4: Normalize the point cloud\n",
    "normalized_pcd = normalize_point_cloud(adjusted_pcd)\n",
    "normalized_points = np.asarray(normalized_pcd.points)\n",
    "normalized_colors = np.asarray(normalized_pcd.colors)\n",
    "\n",
    "# Step 5: Prepare input tensors\n",
    "input_points = torch.from_numpy(normalized_points).float().unsqueeze(0)  # Shape: (1, N, 3)\n",
    "input_labels = torch.from_numpy(adjusted_labels).long().unsqueeze(0)     # Shape: (1, N)\n",
    "\n",
    "print(f\"Input points shape: {input_points.shape}\")\n",
    "print(f\"Input labels shape: {input_labels.shape}\")\n",
    "print(f\"Number of plant points: {np.sum(adjusted_labels == 1)}\")\n",
    "print(f\"Number of noise points: {np.sum(adjusted_labels == 0)}\")"
   ]
  },
  {
   "cell_type": "code",
   "execution_count": 7,
   "metadata": {},
   "outputs": [
    {
     "name": "stdout",
     "output_type": "stream",
     "text": [
      "Output tensor shape: torch.Size([1, 2048, 2])\n",
      "Predicted labels shape: torch.Size([1, 2048])\n",
      "Unique predicted labels: [0]\n"
     ]
    }
   ],
   "source": [
    "# Initialize the PointNet++ model\n",
    "num_classes = 2  # For binary segmentation\n",
    "model = PointNetPlusPlus(num_classes=num_classes)\n",
    "\n",
    "# Set the model to evaluation mode\n",
    "model.eval()\n",
    "\n",
    "# Forward pass\n",
    "with torch.no_grad():\n",
    "    output = model(input_points)  # Output shape: (1, N, num_classes)\n",
    "    predicted_labels = torch.argmax(output, dim=2)  # Shape: (1, N)\n",
    "    predicted_labels_np = predicted_labels.squeeze().numpy()  # Shape: (N,)\n",
    "\n",
    "print(f\"Output tensor shape: {output.shape}\")\n",
    "print(f\"Predicted labels shape: {predicted_labels.shape}\")\n",
    "print(f\"Unique predicted labels: {np.unique(predicted_labels_np)}\")"
   ]
  }
 ],
 "metadata": {
  "kernelspec": {
   "display_name": "Python 3",
   "language": "python",
   "name": "python3"
  },
  "language_info": {
   "codemirror_mode": {
    "name": "ipython",
    "version": 3
   },
   "file_extension": ".py",
   "mimetype": "text/x-python",
   "name": "python",
   "nbconvert_exporter": "python",
   "pygments_lexer": "ipython3",
   "version": "3.10.11"
  }
 },
 "nbformat": 4,
 "nbformat_minor": 2
}
