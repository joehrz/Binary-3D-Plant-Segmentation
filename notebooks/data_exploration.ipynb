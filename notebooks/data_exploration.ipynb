{
 "cells": [
  {
   "cell_type": "code",
   "execution_count": 79,
   "metadata": {},
   "outputs": [],
   "source": [
    "# Standard libraries\n",
    "import os\n",
    "import sys\n",
    "import numpy as np\n",
    "import pandas as pd\n",
    "import matplotlib.pyplot as plt\n",
    "from scipy.spatial import cKDTree\n",
    "\n",
    "# Open3D for point cloud processing\n",
    "import open3d as o3d"
   ]
  },
  {
   "cell_type": "code",
   "execution_count": 80,
   "metadata": {},
   "outputs": [],
   "source": [
    "# Add project root to sys.path\n",
    "project_root = os.path.abspath(os.path.join(os.getcwd(), '..'))\n",
    "sys.path.append(project_root)"
   ]
  },
  {
   "cell_type": "code",
   "execution_count": 95,
   "metadata": {},
   "outputs": [],
   "source": [
    "def build_kdtree(data):\n",
    "    \"\"\"\n",
    "    Build a KDTree from the given data.\n",
    "    \n",
    "    Parameters:\n",
    "        data (np.ndarray): Data points for the KDTree.\n",
    "        \n",
    "    Returns:\n",
    "        cKDTree: Constructed KDTree.\n",
    "    \"\"\"\n",
    "    tree = cKDTree(data)\n",
    "    return tree\n",
    "\n",
    "def extract_rgb(pcd):\n",
    "    \"\"\"\n",
    "    Extract RGB values from a point cloud.\n",
    "    \n",
    "    Parameters:\n",
    "        pcd (o3d.geometry.PointCloud): Input point cloud.\n",
    "        \n",
    "    Returns:\n",
    "        np.ndarray: Array of RGB values normalized between 0 and 1.\n",
    "    \"\"\"\n",
    "    if not pcd.has_colors():\n",
    "        raise ValueError(\"Point cloud does not have color information.\")\n",
    "    rgb = np.asarray(pcd.colors)\n",
    "    return rgb\n",
    "\n",
    "def extract_xyz(pcd):\n",
    "    \"\"\"\n",
    "    Extract XYZ coordinates from a point cloud.\n",
    "    \n",
    "    Parameters:\n",
    "        pcd (o3d.geometry.PointCloud): Input point cloud.\n",
    "        \n",
    "    Returns:\n",
    "        np.ndarray: Array of XYZ coordinates.\n",
    "    \"\"\"\n",
    "    xyz = np.asarray(pcd.points)\n",
    "    return xyz\n",
    "\n",
    "def assign_labels_with_rgb_spatial_height(combined_rgb, combined_xyz, plant_rgb, plant_xyz, \n",
    "                                         rgb_tolerance=0.01, spatial_tolerance=0.05, z_min=None, z_max=None):\n",
    "    \"\"\"\n",
    "    Assign labels to points in the combined point cloud based on RGB, spatial proximity, and relative height.\n",
    "    \n",
    "    Parameters:\n",
    "        combined_rgb (np.ndarray): RGB array of the combined point cloud (N x 3), values in [0, 1].\n",
    "        combined_xyz (np.ndarray): XYZ coordinates of the combined point cloud (N x 3).\n",
    "        plant_rgb (np.ndarray): RGB array of the plant-only point cloud (M x 3), values in [0, 1].\n",
    "        plant_xyz (np.ndarray): XYZ coordinates of the plant-only point cloud (M x 3).\n",
    "        rgb_tolerance (float): Maximum Euclidean distance in RGB space to consider a point as plant.\n",
    "        spatial_tolerance (float): Maximum spatial distance to consider proximity to plant points.\n",
    "        z_min (float): Minimum Z-value (height) from plant-only point cloud.\n",
    "        z_max (float): Maximum Z-value (height) from plant-only point cloud.\n",
    "        \n",
    "    Returns:\n",
    "        np.ndarray: Labels array for the combined point cloud (N,), where 0 = plant, 1 = non-plant.\n",
    "    \"\"\"\n",
    "    # Initialize all labels as non-plant (1)\n",
    "    labels = np.ones(len(combined_rgb), dtype=np.int32)\n",
    "    \n",
    "    # Build KDTree for RGB\n",
    "    rgb_tree = build_kdtree(plant_rgb)\n",
    "    \n",
    "    # Query the nearest plant RGB for each combined RGB\n",
    "    rgb_distances, _ = rgb_tree.query(combined_rgb, k=1)\n",
    "    \n",
    "    # Assign labels based on RGB tolerance\n",
    "    rgb_label_mask = rgb_distances <= rgb_tolerance\n",
    "    labels[rgb_label_mask] = 0  # Tentatively label as plant\n",
    "    \n",
    "    # Build KDTree for spatial coordinates\n",
    "    spatial_tree = build_kdtree(plant_xyz)\n",
    "    \n",
    "    # Query the nearest plant point for each combined point\n",
    "    spatial_distances, _ = spatial_tree.query(combined_xyz, k=1)\n",
    "    \n",
    "    # Assign labels based on spatial tolerance\n",
    "    spatial_label_mask = spatial_distances <= spatial_tolerance\n",
    "    # Only keep labels as plant if both RGB and spatial conditions are met\n",
    "    labels[np.logical_not(spatial_label_mask) & (labels == 0)] = 1  # Reassign to non-plant if spatial tolerance not met\n",
    "    \n",
    "    # Apply height constraints if z_min and z_max are provided\n",
    "    if z_min is not None and z_max is not None:\n",
    "        height_mask = (combined_xyz[:, 2] >= z_min) & (combined_xyz[:, 2] <= z_max)\n",
    "        labels = np.where(height_mask, labels, 1)  # Set labels to 1 if outside height range\n",
    "    \n",
    "    return labels\n",
    "def recolor_pcd_based_on_labels(pcd, labels):\n",
    "    \"\"\"\n",
    "    Recolor the point cloud based on labels.\n",
    "    \n",
    "    Parameters:\n",
    "        pcd (o3d.geometry.PointCloud): Labeled point cloud.\n",
    "        labels (np.ndarray): Array of labels.\n",
    "        \n",
    "    Returns:\n",
    "        o3d.geometry.PointCloud: Recolored point cloud.\n",
    "    \"\"\"\n",
    "    # Define color mappings\n",
    "    plant_color = [0, 1, 0]      # Green\n",
    "    non_plant_color = [1, 0, 0]  # Red\n",
    "    \n",
    "    # Assign colors based on labels\n",
    "    colors = np.array([plant_color if label == 0 else non_plant_color for label in labels])\n",
    "    pcd.colors = o3d.utility.Vector3dVector(colors)\n",
    "    \n",
    "    return pcd"
   ]
  },
  {
   "cell_type": "code",
   "execution_count": 112,
   "metadata": {},
   "outputs": [
    {
     "name": "stdout",
     "output_type": "stream",
     "text": [
      "Plant-only point cloud has 309087 points.\n",
      "Combined point cloud has 1856179 points.\n"
     ]
    }
   ],
   "source": [
    "# Load a sample plant-only point cloud\n",
    "plant_pcd_path = os.path.join(project_root, 'data', 'raw', 'plant_only', 'Wheat_Alsen_F0_2023-06-30-1949_fused_output.ply')\n",
    "\n",
    "plant_pcd = o3d.io.read_point_cloud(plant_pcd_path)\n",
    "print(f\"Plant-only point cloud has {len(plant_pcd.points)} points.\")\n",
    "\n",
    "# Load a sample combined point cloud\n",
    "combined_pcd_path = os.path.join(project_root, 'data', 'raw', 'combined', 'Wheat_Alsen_F0_2023-06-30-1949_fused_output.ply')\n",
    "combined_pcd = o3d.io.read_point_cloud(combined_pcd_path)\n",
    "print(f\"Combined point cloud has {len(combined_pcd.points)} points.\")\n",
    "\n",
    "# Visualize plant-only point cloud\n",
    "#o3d.visualization.draw_geometries([plant_pcd], window_name='Plant-Only Point Cloud')\n",
    "\n",
    "# Visualize combined point cloud\n",
    "#o3d.visualization.draw_geometries([combined_pcd], window_name='Combined Point Cloud')"
   ]
  },
  {
   "cell_type": "code",
   "execution_count": 113,
   "metadata": {},
   "outputs": [],
   "source": [
    "import copy\n",
    "labeled_pcd = copy.deepcopy(combined_pcd)"
   ]
  },
  {
   "cell_type": "code",
   "execution_count": 114,
   "metadata": {},
   "outputs": [
    {
     "name": "stdout",
     "output_type": "stream",
     "text": [
      "Plant Height Range: Z_min = 0.431, Z_max = 1.271\n"
     ]
    }
   ],
   "source": [
    "# Extract RGB and XYZ\n",
    "plant_rgb = extract_rgb(plant_pcd)\n",
    "plant_xyz = extract_xyz(plant_pcd)\n",
    "combined_rgb = extract_rgb(combined_pcd)\n",
    "combined_xyz = extract_xyz(combined_pcd)\n",
    "\n",
    "# Determine height boundaries from plant-only point cloud\n",
    "z_min = plant_xyz[:, 2].min()\n",
    "z_max = plant_xyz[:, 2].max()\n",
    "print(f\"Plant Height Range: Z_min = {z_min:.3f}, Z_max = {z_max:.3f}\")\n",
    "    \n",
    "# Assign labels with RGB, spatial proximity, and height constraints\n",
    "labels = assign_labels_with_rgb_spatial_height(combined_rgb, combined_xyz, plant_rgb, plant_xyz,\n",
    "                                                 rgb_tolerance=0.01, spatial_tolerance=0.06,\n",
    "                                                 z_min=z_min, z_max=z_max)\n",
    "    \n",
    "# Recolor the combined point cloud based on labels\n",
    "recolored_pcd = recolor_pcd_based_on_labels(combined_pcd, labels)"
   ]
  },
  {
   "cell_type": "code",
   "execution_count": 115,
   "metadata": {},
   "outputs": [],
   "source": [
    "o3d.visualization.draw_geometries([recolored_pcd])"
   ]
  },
  {
   "cell_type": "code",
   "execution_count": 116,
   "metadata": {},
   "outputs": [
    {
     "name": "stdout",
     "output_type": "stream",
     "text": [
      "Plant points (0): 332994\n",
      "Non-plant points (1): 1523185\n"
     ]
    },
    {
     "data": {
      "image/png": "[encoded data removed]",
      "text/plain": [
       "<Figure size 600x400 with 1 Axes>"
      ]
     },
     "metadata": {},
     "output_type": "display_data"
    }
   ],
   "source": [
    "from collections import Counter\n",
    "# Count the number of plant and non-plant points\n",
    "label_counts = Counter(labels)\n",
    "print(f\"Plant points (0): {label_counts[0]}\")\n",
    "print(f\"Non-plant points (1): {label_counts[1]}\")\n",
    "\n",
    "# Visualize the label distribution\n",
    "labels_list = labels.tolist()\n",
    "plt.figure(figsize=(6, 4))\n",
    "plt.bar(['Plant (0)', 'Non-plant (1)'], [label_counts[0], label_counts[1]], color=['green', 'red'])\n",
    "plt.title('Label Distribution')\n",
    "plt.xlabel('Labels')\n",
    "plt.ylabel('Number of Points')\n",
    "plt.show()"
   ]
  },
  {
   "cell_type": "code",
   "execution_count": null,
   "metadata": {},
   "outputs": [],
   "source": []
  }
 ],
 "metadata": {
  "kernelspec": {
   "display_name": "Python 3",
   "language": "python",
   "name": "python3"
  },
  "language_info": {
   "codemirror_mode": {
    "name": "ipython",
    "version": 3
   },
   "file_extension": ".py",
   "mimetype": "text/x-python",
   "name": "python",
   "nbconvert_exporter": "python",
   "pygments_lexer": "ipython3",
   "version": "3.10.11"
  }
 },
 "nbformat": 4,
 "nbformat_minor": 2
}
